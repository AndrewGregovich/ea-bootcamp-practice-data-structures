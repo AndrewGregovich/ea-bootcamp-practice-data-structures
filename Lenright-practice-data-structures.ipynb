{
 "cells": [
  {
   "cell_type": "markdown",
   "metadata": {},
   "source": [
    "# Earth Analytics Bootcamp - Practice Activity on Data Structures\n",
    "- **Author:** Liam Enright"
   ]
  },
  {
   "cell_type": "markdown",
   "metadata": {},
   "source": [
    "The code imports all Python packages that are to be used throughout the practice activity as well as confirms through a print message that the packages were imported successfully."
   ]
  },
  {
   "cell_type": "code",
   "execution_count": 1,
   "metadata": {},
   "outputs": [
    {
     "name": "stdout",
     "output_type": "stream",
     "text": [
      "import of packages successful\n"
     ]
    }
   ],
   "source": [
    "# import necessary Python packages\n",
    "import os\n",
    "import numpy as np\n",
    "import urllib.request\n",
    "import pandas as pd\n",
    "import matplotlib.pyplot as plt\n",
    "\n",
    "# print message after packages imported successfully\n",
    "print(\"import of packages successful\")"
   ]
  },
  {
   "cell_type": "markdown",
   "metadata": {},
   "source": [
    "The following code creates and prints a Python list of the average monthly temperatures (Celsius) in Boulder, CO."
   ]
  },
  {
   "cell_type": "code",
   "execution_count": 3,
   "metadata": {},
   "outputs": [
    {
     "data": {
      "text/plain": [
       "[0.0, 2.0, 5.0, 9.56, 14.39, 21.72, 16.72, 11.61, 4.89, 0.99]"
      ]
     },
     "execution_count": 3,
     "metadata": {},
     "output_type": "execute_result"
    }
   ],
   "source": [
    "#create list of average monthly temperature values\n",
    "avg_monthly_temp_c = [0.00,2.00,5.0,9.56,14.39,21.72,16.72,11.61,4.89,0.99]\n",
    "#print list variable to get list output\n",
    "avg_monthly_temp_c"
   ]
  },
  {
   "cell_type": "markdown",
   "metadata": {},
   "source": [
    "This code inserts missing average monthly temperature (Celsius) in Boulder, CO for June and July."
   ]
  },
  {
   "cell_type": "code",
   "execution_count": 6,
   "metadata": {},
   "outputs": [
    {
     "data": {
      "text/plain": [
       "[0.0, 2.0, 5.0, 9.56, 14.39, 19.56, 22.78, 21.72, 16.72, 11.61, 4.89, 0.99]"
      ]
     },
     "execution_count": 6,
     "metadata": {},
     "output_type": "execute_result"
    }
   ],
   "source": [
    "#insert June value of 19.56 into its correct indexing for 'avg_monthly_temp_c' list\n",
    "avg_monthly_temp_c.insert(5, 19.56)\n",
    "#insert July value of 22.78 into its correct indexing for 'avg_monthly_temp_c' list\n",
    "avg_monthly_temp_c.insert(6, 22.78)\n",
    "#print newly updated 'avg_monthly_temp_c' list\n",
    "avg_monthly_temp_c"
   ]
  },
  {
   "cell_type": "markdown",
   "metadata": {},
   "source": [
    "This code manually creates numpy arrays from the average monthly temperature values."
   ]
  },
  {
   "cell_type": "code",
   "execution_count": 8,
   "metadata": {},
   "outputs": [
    {
     "name": "stdout",
     "output_type": "stream",
     "text": [
      "[ 0.    2.    5.    9.56 14.39 19.56 22.78 21.72 16.72 11.61  4.89  0.99]\n",
      "[ 0.    2.    5.    9.56 14.39 19.56 22.78 21.72 16.72 11.61  4.89  0.99]\n"
     ]
    }
   ],
   "source": [
    "#creates and prints a one-dimensional numpy array using a manually imported list\n",
    "one_dim_avg_monthly_temp = np.array([0.0, 2.0, 5.0, 9.56, 14.39, 19.56, 22.78, 21.72, 16.72, 11.61, 4.89, 0.99])\n",
    "print (one_dim_avg_monthly_temp)\n",
    "#creates and prints a one-dimensional numpy array by using the 'avg_monthly_temp_c' variable\n",
    "one_dim_avg_monthly_temp_listname = np.array(avg_monthly_temp_c)\n",
    "print (one_dim_avg_monthly_temp_listname)"
   ]
  },
  {
   "cell_type": "markdown",
   "metadata": {},
   "source": [
    "The code creats a current working directory that acts as a shortcut for naming files and creates an output showing the current working directory."
   ]
  },
  {
   "cell_type": "code",
   "execution_count": 9,
   "metadata": {},
   "outputs": [
    {
     "data": {
      "text/plain": [
       "'C:\\\\Users\\\\liamf\\\\earth-analytics-bootcamp'"
      ]
     },
     "execution_count": 9,
     "metadata": {},
     "output_type": "execute_result"
    }
   ],
   "source": [
    "# set the working directory to the `earth-analytics-bootcamp` directory\n",
    "os.chdir(\"C:/Users/liamf/earth-analytics-bootcamp/\")\n",
    "\n",
    "# print the current working directory\n",
    "os.getcwd()"
   ]
  },
  {
   "cell_type": "markdown",
   "metadata": {},
   "source": [
    "The code downloads average monthly temperature (Celsius) for Boulder, CO, for a numpy array."
   ]
  },
  {
   "cell_type": "code",
   "execution_count": 10,
   "metadata": {},
   "outputs": [
    {
     "name": "stdout",
     "output_type": "stream",
     "text": [
      "array downloaded successfully\n"
     ]
    }
   ],
   "source": [
    "# use `urllib` to download file from Earth Lab figshare repository\n",
    "# download .txt containing average monthly temperature (Celsius) for Boulder, CO\n",
    "urllib.request.urlretrieve(url = \"https://ndownloader.figshare.com/files/12732467\", \n",
    "                           filename = \"data/avg-monthly-temp.txt\")\n",
    "\n",
    "# print message that data downloaded successfully\n",
    "print(\"array downloaded successfully\")"
   ]
  },
  {
   "cell_type": "markdown",
   "metadata": {},
   "source": [
    "The following code creates a variable for the average monthly temperature array and creates a numpy array output."
   ]
  },
  {
   "cell_type": "code",
   "execution_count": 15,
   "metadata": {},
   "outputs": [
    {
     "name": "stdout",
     "output_type": "stream",
     "text": [
      "variable created\n",
      "[ 0.    2.    5.    9.56 14.39 19.56 22.78 21.72 16.72 11.61  4.89  0.99]\n"
     ]
    }
   ],
   "source": [
    "# import the monthly average values from `avg-monthly-temp.txt` as a numpy array and create a new variable\n",
    "avg_monthly_tempc = np.loadtxt(fname = \"C:/Users/liamf/earth-analytics-bootcamp/data/avg-monthly-temp.txt\", delimiter = \",\")\n",
    "\n",
    "#print message that numpy array was imported and made into a variable\n",
    "print(\"variable created\")\n",
    "\n",
    "#display the output array as floats, rather than scientific notation\n",
    "np.set_printoptions(suppress=True)\n",
    "\n",
    "#print numpy array 'avg_monthly_tempc'\n",
    "print(avg_monthly_tempc)"
   ]
  },
  {
   "cell_type": "markdown",
   "metadata": {},
   "source": [
    "The code creates two new numpy arrays containing the data values for Mar, Apr, May and Sept, Oct, Nov and calculates and prints the mean values of the arrays."
   ]
  },
  {
   "cell_type": "code",
   "execution_count": 20,
   "metadata": {},
   "outputs": [
    {
     "name": "stdout",
     "output_type": "stream",
     "text": [
      "Mean of Spring Average Monthly Temperatures: 9.65\n",
      "Mean of Fall Average Monthly Temperatures: 11.073333333333332\n"
     ]
    }
   ],
   "source": [
    "# select the first row and third, fourth, and fifth columns of 'avg_monthly_tempc' values to create a new numpy array\n",
    "avg_monthly_tempc_spring = avg_monthly_tempc[2:5]\n",
    "\n",
    "# select the first row and third, fourth, and fifth columns of 'avg_monthly_tempc' values to create a new numpy array\n",
    "avg_monthly_tempc_fall = avg_monthly_tempc[8:11]\n",
    "\n",
    "# find the mean value in 'avg_monthly_tempc_spring' and store the result as a new variable 'avg_monthly_tempc_spring_mean'\n",
    "avg_monthly_tempc_spring_mean = np.mean(avg_monthly_tempc_spring)\n",
    "\n",
    "# find the mean value in 'avg_monthly_tempc_fall' and store the result as a new variable 'avg_monthly_tempc_fall_mean'\n",
    "avg_monthly_tempc_fall_mean = np.mean(avg_monthly_tempc_fall)\n",
    "\n",
    "# print data in `avg_monthly_tempc_spring` and 'avg_monthly_tempc_fall'\n",
    "print (\"Mean of Spring Average Monthly Temperatures:\", avg_monthly_tempc_spring_mean)\n",
    "print (\"Mean of Fall Average Monthly Temperatures:\", avg_monthly_tempc_fall_mean)"
   ]
  },
  {
   "cell_type": "markdown",
   "metadata": {},
   "source": [
    "The code manually creates and prints a pandas dataframe of average monthly temperature (Celsius) for Boulder, Colorado"
   ]
  },
  {
   "cell_type": "code",
   "execution_count": 21,
   "metadata": {},
   "outputs": [
    {
     "data": {
      "text/html": [
       "<div>\n",
       "<style scoped>\n",
       "    .dataframe tbody tr th:only-of-type {\n",
       "        vertical-align: middle;\n",
       "    }\n",
       "\n",
       "    .dataframe tbody tr th {\n",
       "        vertical-align: top;\n",
       "    }\n",
       "\n",
       "    .dataframe thead th {\n",
       "        text-align: right;\n",
       "    }\n",
       "</style>\n",
       "<table border=\"1\" class=\"dataframe\">\n",
       "  <thead>\n",
       "    <tr style=\"text-align: right;\">\n",
       "      <th></th>\n",
       "      <th>Month</th>\n",
       "      <th>Temp</th>\n",
       "    </tr>\n",
       "  </thead>\n",
       "  <tbody>\n",
       "    <tr>\n",
       "      <th>0</th>\n",
       "      <td>January</td>\n",
       "      <td>0.00</td>\n",
       "    </tr>\n",
       "    <tr>\n",
       "      <th>1</th>\n",
       "      <td>February</td>\n",
       "      <td>2.00</td>\n",
       "    </tr>\n",
       "    <tr>\n",
       "      <th>2</th>\n",
       "      <td>March</td>\n",
       "      <td>5.00</td>\n",
       "    </tr>\n",
       "    <tr>\n",
       "      <th>3</th>\n",
       "      <td>April</td>\n",
       "      <td>9.56</td>\n",
       "    </tr>\n",
       "    <tr>\n",
       "      <th>4</th>\n",
       "      <td>May</td>\n",
       "      <td>14.39</td>\n",
       "    </tr>\n",
       "    <tr>\n",
       "      <th>5</th>\n",
       "      <td>June</td>\n",
       "      <td>19.56</td>\n",
       "    </tr>\n",
       "    <tr>\n",
       "      <th>6</th>\n",
       "      <td>July</td>\n",
       "      <td>22.78</td>\n",
       "    </tr>\n",
       "    <tr>\n",
       "      <th>7</th>\n",
       "      <td>August</td>\n",
       "      <td>21.72</td>\n",
       "    </tr>\n",
       "    <tr>\n",
       "      <th>8</th>\n",
       "      <td>September</td>\n",
       "      <td>16.72</td>\n",
       "    </tr>\n",
       "    <tr>\n",
       "      <th>9</th>\n",
       "      <td>October</td>\n",
       "      <td>11.61</td>\n",
       "    </tr>\n",
       "    <tr>\n",
       "      <th>10</th>\n",
       "      <td>November</td>\n",
       "      <td>4.89</td>\n",
       "    </tr>\n",
       "    <tr>\n",
       "      <th>11</th>\n",
       "      <td>December</td>\n",
       "      <td>0.99</td>\n",
       "    </tr>\n",
       "  </tbody>\n",
       "</table>\n",
       "</div>"
      ],
      "text/plain": [
       "        Month   Temp\n",
       "0     January   0.00\n",
       "1    February   2.00\n",
       "2       March   5.00\n",
       "3       April   9.56\n",
       "4         May  14.39\n",
       "5        June  19.56\n",
       "6        July  22.78\n",
       "7      August  21.72\n",
       "8   September  16.72\n",
       "9     October  11.61\n",
       "10   November   4.89\n",
       "11   December   0.99"
      ]
     },
     "execution_count": 21,
     "metadata": {},
     "output_type": "execute_result"
    }
   ],
   "source": [
    "#creates a pandas dataframe of average monthly temperature (Celsius) for Boulder, Colorado\n",
    "avg_monthly_tempc_pandas = pd.DataFrame( columns=[\"Month\", \"Temp\"], data=[ [\"January\", 0.00], [\"February\", 2.00], [\"March\", 5.00], [\"April\", 9.56], [\"May\", 14.39], [\"June\", 19.56], [\"July\", 22.78], [\"August\", 21.72], [\"September\", 16.72], [\"October\", 11.61], [\"November\", 4.89], [\"December\", 0.99] ] )\n",
    "#prints 'avg_monthly_tempc_pandas'\n",
    "avg_monthly_tempc_pandas"
   ]
  },
  {
   "cell_type": "markdown",
   "metadata": {},
   "source": [
    "The code downloads the following file of average monthly temperature (Celsius) for Boulder, Colorado, for a pandas dataframe."
   ]
  },
  {
   "cell_type": "code",
   "execution_count": 23,
   "metadata": {},
   "outputs": [
    {
     "name": "stdout",
     "output_type": "stream",
     "text": [
      "datasets downloaded successfully\n"
     ]
    }
   ],
   "source": [
    "# use `urllib` to download file from Earth Lab figshare repository\n",
    "# download .csv containing average monthly temperature (Celsius) for Boulder, CO\n",
    "urllib.request.urlretrieve(url = \"https://ndownloader.figshare.com/files/12739457\", \n",
    "                           filename = \"data/avg-temp-months-seasons.csv\")\n",
    "\n",
    "# print message that data downloaded successfully\n",
    "print(\"datasets downloaded successfully\")"
   ]
  },
  {
   "cell_type": "markdown",
   "metadata": {},
   "source": [
    "The code creates a variable for the imported datasets and creates a pandas dataframe output."
   ]
  },
  {
   "cell_type": "code",
   "execution_count": 26,
   "metadata": {},
   "outputs": [
    {
     "name": "stdout",
     "output_type": "stream",
     "text": [
      "datasets downloaded successfully\n",
      "   months   temp seasons\n",
      "0     Jan   0.00  Winter\n",
      "1     Feb   2.00  Winter\n",
      "2     Mar   5.00  Spring\n",
      "3     Apr   9.56  Spring\n",
      "4     May  14.39  Spring\n",
      "5    June  19.56  Summer\n",
      "6    July  22.78  Summer\n",
      "7     Aug  21.72  Summer\n",
      "8    Sept  16.72    Fall\n",
      "9     Oct  11.61    Fall\n",
      "10    Nov   4.89    Fall\n",
      "11    Dec   0.99  Winter\n"
     ]
    }
   ],
   "source": [
    "# import the monthly average temperature values as a pandas dataframe\n",
    "avg_tempc_months_seasons = pd.read_csv(\"C:/Users/liamf/earth-analytics-bootcamp/data/avg-temp-months-seasons.csv\")\n",
    "\n",
    "# print message that data downloads were successful\n",
    "print(\"datasets downloaded successfully\")\n",
    "print(avg_tempc_months_seasons)"
   ]
  },
  {
   "cell_type": "markdown",
   "metadata": {},
   "source": [
    "The code selects the data for each season, assigns the results to a new pandas dataframe for each season, and summarizes each dataframe."
   ]
  },
  {
   "cell_type": "code",
   "execution_count": 39,
   "metadata": {},
   "outputs": [
    {
     "name": "stdout",
     "output_type": "stream",
     "text": [
      "Summer: \n",
      "             temp\n",
      "count   3.000000\n",
      "mean   21.353333\n",
      "std     1.641016\n",
      "min    19.560000\n",
      "25%    20.640000\n",
      "50%    21.720000\n",
      "75%    22.250000\n",
      "max    22.780000 \n",
      "\n",
      "Winter: \n",
      "            temp\n",
      "count  3.000000\n",
      "mean   0.996667\n",
      "std    1.000017\n",
      "min    0.000000\n",
      "25%    0.495000\n",
      "50%    0.990000\n",
      "75%    1.495000\n",
      "max    2.000000 \n",
      "\n",
      "Spring: \n",
      "             temp\n",
      "count   3.000000\n",
      "mean    9.650000\n",
      "std     4.695647\n",
      "min     5.000000\n",
      "25%     7.280000\n",
      "50%     9.560000\n",
      "75%    11.975000\n",
      "max    14.390000 \n",
      "\n",
      "Fall: \n",
      "             temp\n",
      "count   3.000000\n",
      "mean   11.073333\n",
      "std     5.933231\n",
      "min     4.890000\n",
      "25%     8.250000\n",
      "50%    11.610000\n",
      "75%    14.165000\n",
      "max    16.720000\n"
     ]
    }
   ],
   "source": [
    "#assigns new variable for summer season and creates a new pandas dataframe\n",
    "summer_avg_tempc_months = avg_tempc_months_seasons[avg_tempc_months_seasons.seasons == \"Summer\"]\n",
    "#assigns new variable for winter season and creates a new pandas dataframe\n",
    "winter_avg_tempc_months = avg_tempc_months_seasons[avg_tempc_months_seasons.seasons == \"Winter\"]\n",
    "#assigns new variable for spring season and creates a new pandas dataframe\n",
    "spring_avg_tempc_months = avg_tempc_months_seasons[avg_tempc_months_seasons.seasons == \"Spring\"]\n",
    "#assigns new variable for fall season and creates a new pandas dataframe\n",
    "fall_avg_tempc_months = avg_tempc_months_seasons[avg_tempc_months_seasons.seasons == \"Fall\"]\n",
    "\n",
    "#prints a summary for new dataframes for every season\n",
    "print (\"Summer:\",\"\\n\",summer_avg_tempc_months.describe(),\"\\n\")\n",
    "\n",
    "print (\"Winter:\",\"\\n\",winter_avg_tempc_months.describe(),\"\\n\")\n",
    "\n",
    "print (\"Spring:\",\"\\n\",spring_avg_tempc_months.describe(),\"\\n\")\n",
    "\n",
    "print (\"Fall:\",\"\\n\",fall_avg_tempc_months.describe())"
   ]
  },
  {
   "cell_type": "markdown",
   "metadata": {},
   "source": [
    "The code creates a new pandas dataframe containing the calculated mean value for each season and the name of the season"
   ]
  },
  {
   "cell_type": "code",
   "execution_count": 41,
   "metadata": {},
   "outputs": [
    {
     "name": "stdout",
     "output_type": "stream",
     "text": [
      "avg_monthly_seasons_tempc variable created\n"
     ]
    }
   ],
   "source": [
    "#creates a pandas dataframe of average monthly temperature (Celsius) for Boulder, Colorado\n",
    "avg_monthly_seasons_tempc = pd.DataFrame( columns=[\"Season\", \"Temp\"], data=[ [\"Winter\", 0.996667], [\"Spring\", 9.650000], [\"Summer\", 21.353333], [\"Fall\", 11.073333]] )\n",
    "\n",
    "#creates prints message confirming creating of new variable\n",
    "print (\"avg_monthly_seasons_tempc variable created\")"
   ]
  },
  {
   "cell_type": "markdown",
   "metadata": {},
   "source": [
    "The following code creates a plot for the season mean temperature value (Celsius) for Boulder, CO."
   ]
  },
  {
   "cell_type": "code",
   "execution_count": 42,
   "metadata": {},
   "outputs": [
    {
     "data": {
      "image/png": "[encoded data removed]",
      "text/plain": [
       "<Figure size 576x576 with 1 Axes>"
      ]
     },
     "metadata": {},
     "output_type": "display_data"
    }
   ],
   "source": [
    "# set plot size for all plots that follow\n",
    "plt.rcParams[\"figure.figsize\"] = (8, 8)\n",
    "\n",
    "# create the plot space upon which to plot the data\n",
    "fig, ax = plt.subplots()\n",
    "\n",
    "# add the x-axis and the y-axis to the plot\n",
    "ax.bar(avg_monthly_seasons_tempc.Season, avg_monthly_seasons_tempc.Temp, color=\"red\")\n",
    "\n",
    "# set plot title\n",
    "ax.set(title=\"Seasons mean temperature for Boulder, Colorado\")\n",
    "\n",
    "# add labels to the axes\n",
    "ax.set(xlabel=\"Season\", ylabel=\"Temperature (Celsius)\");"
   ]
  }
 ],
 "metadata": {
  "kernelspec": {
   "display_name": "Python 3",
   "language": "python",
   "name": "python3"
  },
  "language_info": {
   "codemirror_mode": {
    "name": "ipython",
    "version": 3
   },
   "file_extension": ".py",
   "mimetype": "text/x-python",
   "name": "python",
   "nbconvert_exporter": "python",
   "pygments_lexer": "ipython3",
   "version": "3.6.5"
  }
 },
 "nbformat": 4,
 "nbformat_minor": 2
}
