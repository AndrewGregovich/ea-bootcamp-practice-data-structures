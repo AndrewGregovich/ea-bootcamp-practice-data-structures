{
 "cells": [
  {
   "cell_type": "markdown",
   "metadata": {},
   "source": [
    "# Earth Analytics Bootcamp - Practice Activity on Data Structures\n",
    "**Author:** Emily Fairfax  \n",
    "**Date:** August 13th, 2018"
   ]
  },
  {
   "cell_type": "markdown",
   "metadata": {},
   "source": [
    "### Question 2: Import Python Packages\n",
    "The purpose of the following codeblock is to import the necessary Python packages for this exercise."
   ]
  },
  {
   "cell_type": "code",
   "execution_count": 13,
   "metadata": {},
   "outputs": [
    {
     "name": "stdout",
     "output_type": "stream",
     "text": [
      "All packages imported successfully. Begin coding!\n"
     ]
    }
   ],
   "source": [
    "# Import necessary Python packages\n",
    "import os\n",
    "import numpy as np\n",
    "import pandas as pd\n",
    "import urllib.request\n",
    "import matplotlib.pyplot as plt\n",
    "\n",
    "# Confirm successful import\n",
    "print('All packages imported successfully. Begin coding!')"
   ]
  },
  {
   "cell_type": "markdown",
   "metadata": {},
   "source": [
    "### Question 3 and 4: Make a List of Boulder, CO Temperature Data\n",
    "The purpose of the following codeblock is to make a Python list of average monthly temperature data for Boulder, CO from a given incomplete data set (Q3) then fix the data by inserting missing points (Q4)."
   ]
  },
  {
   "cell_type": "code",
   "execution_count": 14,
   "metadata": {},
   "outputs": [
    {
     "name": "stdout",
     "output_type": "stream",
     "text": [
      "The average monthly temperatures (degrees C) in Boulder, CO for Jan-May and Aug-Dec are: [0.0, 2.0, 5.0, 9.56, 14.39, 21.72, 16.72, 11.61, 4.89, 0.99]\n",
      "\n",
      "Uh oh! This data is missing the values for June and July! Better fix that.\n",
      "\n",
      "The updated average monthly temperatures (degrees C) in Boulder, CO updated to include June are: [0.0, 2.0, 5.0, 9.56, 14.39, 19.56, 21.72, 16.72, 11.61, 4.89, 0.99]\n",
      "\n",
      "The updated average monthly temperatures (degrees C) in Boulder, CO updated to include June and July (i.e. the full year) are: [0.0, 2.0, 5.0, 9.56, 14.39, 19.56, 22.78, 21.72, 16.72, 11.61, 4.89, 0.99]\n",
      "\n",
      "Nice Python list!\n"
     ]
    }
   ],
   "source": [
    "# Create a list of average monthly temperature (degrees C) for Boulder, CO\n",
    "avg_temp_C = [0.0,2.00,5.0,9.56,14.39,21.72,16.72,11.61,4.89,0.99]\n",
    "print(\"The average monthly temperatures (degrees C) in Boulder, CO for Jan-May and Aug-Dec are:\",avg_temp_C)\n",
    "print(\"\")\n",
    "print(\"Uh oh! This data is missing the values for June and July! Better fix that.\")\n",
    "print(\"\")\n",
    "\n",
    "# Insert the missing data for June \n",
    "avg_temp_C.insert(5,19.56)\n",
    "print(\"The updated average monthly temperatures (degrees C) in Boulder, CO updated to include June are:\",avg_temp_C)\n",
    "print(\"\")\n",
    "\n",
    "# Insert the missing data for July\n",
    "avg_temp_C.insert(6,22.78)\n",
    "print(\"The updated average monthly temperatures (degrees C) in Boulder, CO updated to include June and July (i.e. the full year) are:\",avg_temp_C)\n",
    "print(\"\")\n",
    "print(\"Nice Python list!\")\n"
   ]
  },
  {
   "cell_type": "markdown",
   "metadata": {},
   "source": [
    "### Question 5: Manually Create a Numpy Array of the Data\n",
    "The purpose of the following codeblock is to manually create a numpy array of the data contained in the Python list from Q3 and Q4."
   ]
  },
  {
   "cell_type": "code",
   "execution_count": 17,
   "metadata": {},
   "outputs": [
    {
     "name": "stdout",
     "output_type": "stream",
     "text": [
      "The average monthly temperatures (degrees C) in Boulder, CO in array form are: [ 0.    2.    5.    9.56 14.39 19.56 22.78 21.72 16.72 11.61  4.89  0.99]\n",
      "\n",
      "Nice manual array creation! Now make one from the existing Python list...\n",
      "\n",
      "The average monthly temperatures (degrees C) in Boulder, CO in array form are: [ 0.    2.    5.    9.56 14.39 19.56 22.78 21.72 16.72 11.61  4.89  0.99]\n",
      "\n",
      "Nice array creation from an existing Python list!\n"
     ]
    }
   ],
   "source": [
    "# Create a numpy array of the data from Q3 and Q4 manually\n",
    "avg_temp_C_array = np.array([0.0, 2.0, 5.0, 9.56, 14.39, 19.56, 22.78, 21.72, 16.72, 11.61, 4.89, 0.99])\n",
    "\n",
    "# Print the array to check that it worked\n",
    "print(\"The average monthly temperatures (degrees C) in Boulder, CO in array form are:\",avg_temp_C_array)\n",
    "print(\"\")\n",
    "print(\"Nice manual array creation! Now make one from the existing Python list...\")\n",
    "print(\"\")\n",
    "\n",
    "# Create a numpy array of the data from Q3 and Q4 by converting the Python list\n",
    "avg_temp_C_array2 = np.array(avg_temp_C)\n",
    "\n",
    "# Print the array to check that it worked\n",
    "print(\"The average monthly temperatures (degrees C) in Boulder, CO in array form are:\",avg_temp_C_array2)\n",
    "print(\"\")\n",
    "print(\"Nice array creation from an existing Python list!\")\n"
   ]
  },
  {
   "cell_type": "markdown",
   "metadata": {},
   "source": [
    "### Questions 6 and 7: Download Text File, Import into Numpy Arrays, Summarize in Numpy Arrays\n",
    "The purpose of the following codeblock is to download a text file of the average monthly temperature in Boulder, CO, import it into a numpy array, then summarize the dataset."
   ]
  },
  {
   "cell_type": "code",
   "execution_count": 32,
   "metadata": {},
   "outputs": [
    {
     "name": "stdout",
     "output_type": "stream",
     "text": [
      "The current working directory is: /Users/emilyfairfax/Coursework/Summer 2018/GEOG 5463 Data Science Bootcamp/earth-analytics/data\n",
      "\n",
      "The average monthly temperatures in Boulder, CO are: [ 0.    2.    5.    9.56 14.39 19.56 22.78 21.72 16.72 11.61  4.89  0.99]\n",
      "\n",
      "This data is stored as a: <class 'numpy.ndarray'>\n",
      "\n",
      "The temperatures for March, April, and May are: [ 5.    9.56 14.39] degrees C.\n",
      "The average spring monthly temperature for Boulder, CO is: 9.65 degrees C.\n",
      "\n",
      "The temperatures for September, October, and November are: [16.72 11.61  4.89] degrees C.\n",
      "The average fall monthly temperature for Boulder, CO is: 11.07 degrees C.\n"
     ]
    }
   ],
   "source": [
    "# Change the working directory to the data folder\n",
    "os.chdir('/Users/emilyfairfax/Coursework/Summer 2018/GEOG 5463 Data Science Bootcamp/earth-analytics/data')\n",
    "print('The current working directory is:',os.getcwd())\n",
    "print(\"\")\n",
    "\n",
    "# Download the data from the web host\n",
    "urllib.request.urlretrieve(url='https://ndownloader.figshare.com/files/12732467',\n",
    "                           filename = 'avg-monthly-temp.txt')\n",
    "\n",
    "# Import the data into a numpy array\n",
    "avg_monthly_temp = np.loadtxt(fname = 'avg-monthly-temp.txt')\n",
    "print(\"The average monthly temperatures in Boulder, CO are:\",avg_monthly_temp)\n",
    "print(\"\")\n",
    "print(\"This data is stored as a:\",type(avg_monthly_temp))\n",
    "print(\"\")\n",
    "\n",
    "# Summarize the imported dataset for spring and fall seasons\n",
    "# spring data\n",
    "spring_avg_temp = avg_monthly_temp[2:5]\n",
    "print(\"The temperatures for March, April, and May are:\",\n",
    "      spring_avg_temp,\n",
    "      \"degrees C.\")\n",
    "print(\"The average spring monthly temperature for Boulder, CO is:\",\n",
    "      np.mean(spring_avg_temp),\n",
    "      \"degrees C.\")\n",
    "print(\"\")\n",
    "\n",
    "# fall data\n",
    "fall_avg_temp = avg_monthly_temp[8:11]\n",
    "print(\"The temperatures for September, October, and November are:\",\n",
    "      fall_avg_temp,\n",
    "      \"degrees C.\")\n",
    "print(\"The average fall monthly temperature for Boulder, CO is:\",\n",
    "      round(np.mean(fall_avg_temp),2),\n",
    "      \"degrees C.\")\n"
   ]
  },
  {
   "cell_type": "markdown",
   "metadata": {},
   "source": [
    "### Question 8: Manually Create Pandas Dataframes\n",
    "The purpose of the following codeblock is to manually create a pandas dataframe from the whole monthly temperature dataset we have been working with in previous questions."
   ]
  },
  {
   "cell_type": "code",
   "execution_count": 34,
   "metadata": {},
   "outputs": [
    {
     "name": "stdout",
     "output_type": "stream",
     "text": [
      "The average monthly temperature data for Boulder, CO in degrees C is stored in the dataframe below.\n"
     ]
    },
    {
     "data": {
      "text/html": [
       "<div>\n",
       "<style scoped>\n",
       "    .dataframe tbody tr th:only-of-type {\n",
       "        vertical-align: middle;\n",
       "    }\n",
       "\n",
       "    .dataframe tbody tr th {\n",
       "        vertical-align: top;\n",
       "    }\n",
       "\n",
       "    .dataframe thead th {\n",
       "        text-align: right;\n",
       "    }\n",
       "</style>\n",
       "<table border=\"1\" class=\"dataframe\">\n",
       "  <thead>\n",
       "    <tr style=\"text-align: right;\">\n",
       "      <th></th>\n",
       "      <th>Month</th>\n",
       "      <th>Temperature (C)</th>\n",
       "    </tr>\n",
       "  </thead>\n",
       "  <tbody>\n",
       "    <tr>\n",
       "      <th>0</th>\n",
       "      <td>January</td>\n",
       "      <td>0.00</td>\n",
       "    </tr>\n",
       "    <tr>\n",
       "      <th>1</th>\n",
       "      <td>February</td>\n",
       "      <td>2.00</td>\n",
       "    </tr>\n",
       "    <tr>\n",
       "      <th>2</th>\n",
       "      <td>March</td>\n",
       "      <td>5.00</td>\n",
       "    </tr>\n",
       "    <tr>\n",
       "      <th>3</th>\n",
       "      <td>April</td>\n",
       "      <td>9.56</td>\n",
       "    </tr>\n",
       "    <tr>\n",
       "      <th>4</th>\n",
       "      <td>May</td>\n",
       "      <td>14.39</td>\n",
       "    </tr>\n",
       "    <tr>\n",
       "      <th>5</th>\n",
       "      <td>June</td>\n",
       "      <td>19.56</td>\n",
       "    </tr>\n",
       "    <tr>\n",
       "      <th>6</th>\n",
       "      <td>July</td>\n",
       "      <td>22.78</td>\n",
       "    </tr>\n",
       "    <tr>\n",
       "      <th>7</th>\n",
       "      <td>August</td>\n",
       "      <td>21.72</td>\n",
       "    </tr>\n",
       "    <tr>\n",
       "      <th>8</th>\n",
       "      <td>September</td>\n",
       "      <td>16.72</td>\n",
       "    </tr>\n",
       "    <tr>\n",
       "      <th>9</th>\n",
       "      <td>October</td>\n",
       "      <td>11.61</td>\n",
       "    </tr>\n",
       "    <tr>\n",
       "      <th>10</th>\n",
       "      <td>Novermber</td>\n",
       "      <td>4.89</td>\n",
       "    </tr>\n",
       "    <tr>\n",
       "      <th>11</th>\n",
       "      <td>December</td>\n",
       "      <td>0.99</td>\n",
       "    </tr>\n",
       "  </tbody>\n",
       "</table>\n",
       "</div>"
      ],
      "text/plain": [
       "        Month  Temperature (C)\n",
       "0     January             0.00\n",
       "1    February             2.00\n",
       "2       March             5.00\n",
       "3       April             9.56\n",
       "4         May            14.39\n",
       "5        June            19.56\n",
       "6        July            22.78\n",
       "7      August            21.72\n",
       "8   September            16.72\n",
       "9     October            11.61\n",
       "10  Novermber             4.89\n",
       "11   December             0.99"
      ]
     },
     "metadata": {},
     "output_type": "display_data"
    }
   ],
   "source": [
    "# Manually create a pandas dataframe\n",
    "avg_temp_data = pd.DataFrame(columns=[\"Month\", \"Temperature (C)\"], \n",
    "                              data=[[\"January\", 0.00], \n",
    "                                    [\"February\", 2.00], \n",
    "                                    [\"March\", 5.00], \n",
    "                                    [\"April\", 9.56], \n",
    "                                    [\"May\", 14.39], \n",
    "                                    [\"June\", 19.56], \n",
    "                                    [\"July\", 22.78], \n",
    "                                    [\"August\", 21.72], \n",
    "                                    [\"September\", 16.72], \n",
    "                                    [\"October\", 11.61], \n",
    "                                    [\"Novermber\", 4.89], \n",
    "                                    [\"December\", 0.99]\n",
    "                                       ])\n",
    "print(\"The average monthly temperature data for Boulder, CO in degrees C is stored in the dataframe below.\")\n",
    "display(avg_temp_data)"
   ]
  },
  {
   "cell_type": "markdown",
   "metadata": {},
   "source": [
    "### Question 9: Download a CSV of the Temperature Data and Import into Pandas Dataframes\n",
    "The purpose of the following codeblock is to download a .csv dataset from a web host and import it into a pandas dataframe."
   ]
  },
  {
   "cell_type": "code",
   "execution_count": 36,
   "metadata": {},
   "outputs": [
    {
     "name": "stdout",
     "output_type": "stream",
     "text": [
      "The average monthly temperatures in Boulder, CO are:\n"
     ]
    },
    {
     "data": {
      "text/html": [
       "<div>\n",
       "<style scoped>\n",
       "    .dataframe tbody tr th:only-of-type {\n",
       "        vertical-align: middle;\n",
       "    }\n",
       "\n",
       "    .dataframe tbody tr th {\n",
       "        vertical-align: top;\n",
       "    }\n",
       "\n",
       "    .dataframe thead th {\n",
       "        text-align: right;\n",
       "    }\n",
       "</style>\n",
       "<table border=\"1\" class=\"dataframe\">\n",
       "  <thead>\n",
       "    <tr style=\"text-align: right;\">\n",
       "      <th></th>\n",
       "      <th>months</th>\n",
       "      <th>temp</th>\n",
       "      <th>seasons</th>\n",
       "    </tr>\n",
       "  </thead>\n",
       "  <tbody>\n",
       "    <tr>\n",
       "      <th>0</th>\n",
       "      <td>Jan</td>\n",
       "      <td>0.00</td>\n",
       "      <td>Winter</td>\n",
       "    </tr>\n",
       "    <tr>\n",
       "      <th>1</th>\n",
       "      <td>Feb</td>\n",
       "      <td>2.00</td>\n",
       "      <td>Winter</td>\n",
       "    </tr>\n",
       "    <tr>\n",
       "      <th>2</th>\n",
       "      <td>Mar</td>\n",
       "      <td>5.00</td>\n",
       "      <td>Spring</td>\n",
       "    </tr>\n",
       "    <tr>\n",
       "      <th>3</th>\n",
       "      <td>Apr</td>\n",
       "      <td>9.56</td>\n",
       "      <td>Spring</td>\n",
       "    </tr>\n",
       "    <tr>\n",
       "      <th>4</th>\n",
       "      <td>May</td>\n",
       "      <td>14.39</td>\n",
       "      <td>Spring</td>\n",
       "    </tr>\n",
       "    <tr>\n",
       "      <th>5</th>\n",
       "      <td>June</td>\n",
       "      <td>19.56</td>\n",
       "      <td>Summer</td>\n",
       "    </tr>\n",
       "    <tr>\n",
       "      <th>6</th>\n",
       "      <td>July</td>\n",
       "      <td>22.78</td>\n",
       "      <td>Summer</td>\n",
       "    </tr>\n",
       "    <tr>\n",
       "      <th>7</th>\n",
       "      <td>Aug</td>\n",
       "      <td>21.72</td>\n",
       "      <td>Summer</td>\n",
       "    </tr>\n",
       "    <tr>\n",
       "      <th>8</th>\n",
       "      <td>Sept</td>\n",
       "      <td>16.72</td>\n",
       "      <td>Fall</td>\n",
       "    </tr>\n",
       "    <tr>\n",
       "      <th>9</th>\n",
       "      <td>Oct</td>\n",
       "      <td>11.61</td>\n",
       "      <td>Fall</td>\n",
       "    </tr>\n",
       "    <tr>\n",
       "      <th>10</th>\n",
       "      <td>Nov</td>\n",
       "      <td>4.89</td>\n",
       "      <td>Fall</td>\n",
       "    </tr>\n",
       "    <tr>\n",
       "      <th>11</th>\n",
       "      <td>Dec</td>\n",
       "      <td>0.99</td>\n",
       "      <td>Winter</td>\n",
       "    </tr>\n",
       "  </tbody>\n",
       "</table>\n",
       "</div>"
      ],
      "text/plain": [
       "   months   temp seasons\n",
       "0     Jan   0.00  Winter\n",
       "1     Feb   2.00  Winter\n",
       "2     Mar   5.00  Spring\n",
       "3     Apr   9.56  Spring\n",
       "4     May  14.39  Spring\n",
       "5    June  19.56  Summer\n",
       "6    July  22.78  Summer\n",
       "7     Aug  21.72  Summer\n",
       "8    Sept  16.72    Fall\n",
       "9     Oct  11.61    Fall\n",
       "10    Nov   4.89    Fall\n",
       "11    Dec   0.99  Winter"
      ]
     },
     "metadata": {},
     "output_type": "display_data"
    },
    {
     "name": "stdout",
     "output_type": "stream",
     "text": [
      "\n",
      "This data is stored as a: <class 'pandas.core.frame.DataFrame'>\n",
      "\n"
     ]
    }
   ],
   "source": [
    "# Download the data from the web host\n",
    "urllib.request.urlretrieve(url='https://ndownloader.figshare.com/files/12739457',\n",
    "                           filename = 'avg-temp-months-seasons.csv')\n",
    "\n",
    "# Import the data into a numpy array\n",
    "avg_monthly_temp_seasons = pd.read_csv('/Users/emilyfairfax/Coursework/Summer 2018/GEOG 5463 Data Science Bootcamp/earth-analytics/data/avg-temp-months-seasons.csv')\n",
    "print(\"The average monthly temperatures in Boulder, CO are:\")\n",
    "display(avg_monthly_temp_seasons)\n",
    "print(\"\")\n",
    "print(\"This data is stored as a:\",type(avg_monthly_temp_seasons))\n",
    "print(\"\")"
   ]
  },
  {
   "cell_type": "markdown",
   "metadata": {},
   "source": [
    "### Question 10: Select and Summarize Data from Pandas Dataframes\n",
    "The purpose of the following codeblock is to select and summarize seasonal data from the dataset imported into a pandas dataframe in Q9."
   ]
  },
  {
   "cell_type": "code",
   "execution_count": 65,
   "metadata": {},
   "outputs": [
    {
     "name": "stdout",
     "output_type": "stream",
     "text": [
      "The summary statistics for spring are:\n"
     ]
    },
    {
     "data": {
      "text/html": [
       "<div>\n",
       "<style scoped>\n",
       "    .dataframe tbody tr th:only-of-type {\n",
       "        vertical-align: middle;\n",
       "    }\n",
       "\n",
       "    .dataframe tbody tr th {\n",
       "        vertical-align: top;\n",
       "    }\n",
       "\n",
       "    .dataframe thead th {\n",
       "        text-align: right;\n",
       "    }\n",
       "</style>\n",
       "<table border=\"1\" class=\"dataframe\">\n",
       "  <thead>\n",
       "    <tr style=\"text-align: right;\">\n",
       "      <th></th>\n",
       "      <th>temp</th>\n",
       "    </tr>\n",
       "  </thead>\n",
       "  <tbody>\n",
       "    <tr>\n",
       "      <th>count</th>\n",
       "      <td>3.000000</td>\n",
       "    </tr>\n",
       "    <tr>\n",
       "      <th>mean</th>\n",
       "      <td>9.650000</td>\n",
       "    </tr>\n",
       "    <tr>\n",
       "      <th>std</th>\n",
       "      <td>4.695647</td>\n",
       "    </tr>\n",
       "    <tr>\n",
       "      <th>min</th>\n",
       "      <td>5.000000</td>\n",
       "    </tr>\n",
       "    <tr>\n",
       "      <th>25%</th>\n",
       "      <td>7.280000</td>\n",
       "    </tr>\n",
       "    <tr>\n",
       "      <th>50%</th>\n",
       "      <td>9.560000</td>\n",
       "    </tr>\n",
       "    <tr>\n",
       "      <th>75%</th>\n",
       "      <td>11.975000</td>\n",
       "    </tr>\n",
       "    <tr>\n",
       "      <th>max</th>\n",
       "      <td>14.390000</td>\n",
       "    </tr>\n",
       "  </tbody>\n",
       "</table>\n",
       "</div>"
      ],
      "text/plain": [
       "            temp\n",
       "count   3.000000\n",
       "mean    9.650000\n",
       "std     4.695647\n",
       "min     5.000000\n",
       "25%     7.280000\n",
       "50%     9.560000\n",
       "75%    11.975000\n",
       "max    14.390000"
      ]
     },
     "metadata": {},
     "output_type": "display_data"
    },
    {
     "name": "stdout",
     "output_type": "stream",
     "text": [
      "\n",
      "The summary statistics for summer are:\n"
     ]
    },
    {
     "data": {
      "text/html": [
       "<div>\n",
       "<style scoped>\n",
       "    .dataframe tbody tr th:only-of-type {\n",
       "        vertical-align: middle;\n",
       "    }\n",
       "\n",
       "    .dataframe tbody tr th {\n",
       "        vertical-align: top;\n",
       "    }\n",
       "\n",
       "    .dataframe thead th {\n",
       "        text-align: right;\n",
       "    }\n",
       "</style>\n",
       "<table border=\"1\" class=\"dataframe\">\n",
       "  <thead>\n",
       "    <tr style=\"text-align: right;\">\n",
       "      <th></th>\n",
       "      <th>temp</th>\n",
       "    </tr>\n",
       "  </thead>\n",
       "  <tbody>\n",
       "    <tr>\n",
       "      <th>count</th>\n",
       "      <td>3.000000</td>\n",
       "    </tr>\n",
       "    <tr>\n",
       "      <th>mean</th>\n",
       "      <td>21.353333</td>\n",
       "    </tr>\n",
       "    <tr>\n",
       "      <th>std</th>\n",
       "      <td>1.641016</td>\n",
       "    </tr>\n",
       "    <tr>\n",
       "      <th>min</th>\n",
       "      <td>19.560000</td>\n",
       "    </tr>\n",
       "    <tr>\n",
       "      <th>25%</th>\n",
       "      <td>20.640000</td>\n",
       "    </tr>\n",
       "    <tr>\n",
       "      <th>50%</th>\n",
       "      <td>21.720000</td>\n",
       "    </tr>\n",
       "    <tr>\n",
       "      <th>75%</th>\n",
       "      <td>22.250000</td>\n",
       "    </tr>\n",
       "    <tr>\n",
       "      <th>max</th>\n",
       "      <td>22.780000</td>\n",
       "    </tr>\n",
       "  </tbody>\n",
       "</table>\n",
       "</div>"
      ],
      "text/plain": [
       "            temp\n",
       "count   3.000000\n",
       "mean   21.353333\n",
       "std     1.641016\n",
       "min    19.560000\n",
       "25%    20.640000\n",
       "50%    21.720000\n",
       "75%    22.250000\n",
       "max    22.780000"
      ]
     },
     "metadata": {},
     "output_type": "display_data"
    },
    {
     "name": "stdout",
     "output_type": "stream",
     "text": [
      "\n",
      "The summary statistics for fall are:\n"
     ]
    },
    {
     "data": {
      "text/html": [
       "<div>\n",
       "<style scoped>\n",
       "    .dataframe tbody tr th:only-of-type {\n",
       "        vertical-align: middle;\n",
       "    }\n",
       "\n",
       "    .dataframe tbody tr th {\n",
       "        vertical-align: top;\n",
       "    }\n",
       "\n",
       "    .dataframe thead th {\n",
       "        text-align: right;\n",
       "    }\n",
       "</style>\n",
       "<table border=\"1\" class=\"dataframe\">\n",
       "  <thead>\n",
       "    <tr style=\"text-align: right;\">\n",
       "      <th></th>\n",
       "      <th>temp</th>\n",
       "    </tr>\n",
       "  </thead>\n",
       "  <tbody>\n",
       "    <tr>\n",
       "      <th>count</th>\n",
       "      <td>3.000000</td>\n",
       "    </tr>\n",
       "    <tr>\n",
       "      <th>mean</th>\n",
       "      <td>11.073333</td>\n",
       "    </tr>\n",
       "    <tr>\n",
       "      <th>std</th>\n",
       "      <td>5.933231</td>\n",
       "    </tr>\n",
       "    <tr>\n",
       "      <th>min</th>\n",
       "      <td>4.890000</td>\n",
       "    </tr>\n",
       "    <tr>\n",
       "      <th>25%</th>\n",
       "      <td>8.250000</td>\n",
       "    </tr>\n",
       "    <tr>\n",
       "      <th>50%</th>\n",
       "      <td>11.610000</td>\n",
       "    </tr>\n",
       "    <tr>\n",
       "      <th>75%</th>\n",
       "      <td>14.165000</td>\n",
       "    </tr>\n",
       "    <tr>\n",
       "      <th>max</th>\n",
       "      <td>16.720000</td>\n",
       "    </tr>\n",
       "  </tbody>\n",
       "</table>\n",
       "</div>"
      ],
      "text/plain": [
       "            temp\n",
       "count   3.000000\n",
       "mean   11.073333\n",
       "std     5.933231\n",
       "min     4.890000\n",
       "25%     8.250000\n",
       "50%    11.610000\n",
       "75%    14.165000\n",
       "max    16.720000"
      ]
     },
     "metadata": {},
     "output_type": "display_data"
    },
    {
     "name": "stdout",
     "output_type": "stream",
     "text": [
      "\n",
      "The summary statistics for winter are:\n"
     ]
    },
    {
     "data": {
      "text/html": [
       "<div>\n",
       "<style scoped>\n",
       "    .dataframe tbody tr th:only-of-type {\n",
       "        vertical-align: middle;\n",
       "    }\n",
       "\n",
       "    .dataframe tbody tr th {\n",
       "        vertical-align: top;\n",
       "    }\n",
       "\n",
       "    .dataframe thead th {\n",
       "        text-align: right;\n",
       "    }\n",
       "</style>\n",
       "<table border=\"1\" class=\"dataframe\">\n",
       "  <thead>\n",
       "    <tr style=\"text-align: right;\">\n",
       "      <th></th>\n",
       "      <th>temp</th>\n",
       "    </tr>\n",
       "  </thead>\n",
       "  <tbody>\n",
       "    <tr>\n",
       "      <th>count</th>\n",
       "      <td>3.000000</td>\n",
       "    </tr>\n",
       "    <tr>\n",
       "      <th>mean</th>\n",
       "      <td>0.996667</td>\n",
       "    </tr>\n",
       "    <tr>\n",
       "      <th>std</th>\n",
       "      <td>1.000017</td>\n",
       "    </tr>\n",
       "    <tr>\n",
       "      <th>min</th>\n",
       "      <td>0.000000</td>\n",
       "    </tr>\n",
       "    <tr>\n",
       "      <th>25%</th>\n",
       "      <td>0.495000</td>\n",
       "    </tr>\n",
       "    <tr>\n",
       "      <th>50%</th>\n",
       "      <td>0.990000</td>\n",
       "    </tr>\n",
       "    <tr>\n",
       "      <th>75%</th>\n",
       "      <td>1.495000</td>\n",
       "    </tr>\n",
       "    <tr>\n",
       "      <th>max</th>\n",
       "      <td>2.000000</td>\n",
       "    </tr>\n",
       "  </tbody>\n",
       "</table>\n",
       "</div>"
      ],
      "text/plain": [
       "           temp\n",
       "count  3.000000\n",
       "mean   0.996667\n",
       "std    1.000017\n",
       "min    0.000000\n",
       "25%    0.495000\n",
       "50%    0.990000\n",
       "75%    1.495000\n",
       "max    2.000000"
      ]
     },
     "metadata": {},
     "output_type": "display_data"
    },
    {
     "name": "stdout",
     "output_type": "stream",
     "text": [
      "\n"
     ]
    }
   ],
   "source": [
    "# Select seasonal data\n",
    "spring_data = avg_monthly_temp_seasons[avg_monthly_temp_seasons['seasons']=='Spring']\n",
    "summer_data = avg_monthly_temp_seasons[avg_monthly_temp_seasons['seasons']=='Summer']\n",
    "fall_data = avg_monthly_temp_seasons[avg_monthly_temp_seasons['seasons']=='Fall']\n",
    "winter_data = avg_monthly_temp_seasons[avg_monthly_temp_seasons['seasons']=='Winter']\n",
    "\n",
    "# Summarize the seasonal data\n",
    "print(\"The summary statistics for spring are:\")\n",
    "display(spring_data.describe())\n",
    "print(\"\")\n",
    "print(\"The summary statistics for summer are:\")\n",
    "display(summer_data.describe())\n",
    "print(\"\")\n",
    "print(\"The summary statistics for fall are:\")\n",
    "display(fall_data.describe())\n",
    "print(\"\")\n",
    "print(\"The summary statistics for winter are:\")\n",
    "display(winter_data.describe())\n",
    "print(\"\")"
   ]
  },
  {
   "cell_type": "markdown",
   "metadata": {},
   "source": [
    "### Question 11: Plot Data from Pandas Dataframes\n",
    "The purpose of the following codeblock is to plot the seasonal average data from the previously generated summary statistic dataframes for Boulder, CO seasonal temperature data.\n"
   ]
  },
  {
   "cell_type": "code",
   "execution_count": 101,
   "metadata": {},
   "outputs": [
    {
     "name": "stdout",
     "output_type": "stream",
     "text": [
      "Below is a plot of the average seasonal temperature data for Boulder, CO in degrees C.\n",
      "\n"
     ]
    },
    {
     "data": {
      "image/png": "[encoded data removed]",
      "text/plain": [
       "<Figure size 864x576 with 1 Axes>"
      ]
     },
     "metadata": {},
     "output_type": "display_data"
    }
   ],
   "source": [
    "# Manually create a new dataframe containing month names and average temperatures\n",
    "seasonal_avg_temp = pd.DataFrame(columns=[\"season\", \"temperature\"], \n",
    "                                 data=[[\"Spring\", 9.65], \n",
    "                                       [\"Summer\", 21.35], \n",
    "                                       [\"Fall\", 11.07], \n",
    "                                       [\"Winter\", 0.99]\n",
    "                                       ])\n",
    "\n",
    "# Begin plotting the data\n",
    "print(\"Below is a plot of the average seasonal temperature data for Boulder, CO in degrees C.\")\n",
    "print(\"\")\n",
    "# Set plot size for all plots that follow\n",
    "plt.rcParams[\"figure.figsize\"] = (12, 8)\n",
    "# Set the font size\n",
    "plt.rcParams['font.size'] = (16)\n",
    "# Create the plot space upon which to plot the data\n",
    "fig, ax = plt.subplots()\n",
    "# Add the x-axis and the y-axis to the plot\n",
    "ax.bar(seasonal_avg_temp.season, seasonal_avg_temp.temperature, edgecolor = \"#000000\")\n",
    "# Color the bars based on leaf color\n",
    "ax.patches[seasonal_avg_temp.index.get_indexer([0])[0]].set_facecolor('#00cd55')\n",
    "ax.patches[seasonal_avg_temp.index.get_indexer([1])[0]].set_facecolor('#008135')\n",
    "ax.patches[seasonal_avg_temp.index.get_indexer([2])[0]].set_facecolor('#ce5400')\n",
    "ax.patches[seasonal_avg_temp.index.get_indexer([3])[0]].set_facecolor('#451c00')\n",
    "\n",
    "\n",
    "# Set plot title\n",
    "ax.set(title=\"Average Seasonal Temperature in Boulder, CO\")\n",
    "# Add labels to the axes\n",
    "ax.set(xlabel=\"Season\", \n",
    "       ylabel=\"Temperature (C)\");\n"
   ]
  },
  {
   "cell_type": "code",
   "execution_count": null,
   "metadata": {},
   "outputs": [],
   "source": []
  }
 ],
 "metadata": {
  "kernelspec": {
   "display_name": "Python 3",
   "language": "python",
   "name": "python3"
  },
  "language_info": {
   "codemirror_mode": {
    "name": "ipython",
    "version": 3
   },
   "file_extension": ".py",
   "mimetype": "text/x-python",
   "name": "python",
   "nbconvert_exporter": "python",
   "pygments_lexer": "ipython3",
   "version": "3.6.5"
  }
 },
 "nbformat": 4,
 "nbformat_minor": 2
}
