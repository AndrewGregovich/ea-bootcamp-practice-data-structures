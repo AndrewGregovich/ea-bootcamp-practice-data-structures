{
 "cells": [
  {
   "cell_type": "markdown",
   "metadata": {},
   "source": [
    "## Earth Analytics Bootcamp - Practice Activity on Data Structures \n",
    "\n",
    "**Author:** Katy Sill\n",
    "\n",
    "**Date:** August 13th, 2018"
   ]
  },
  {
   "cell_type": "markdown",
   "metadata": {},
   "source": [
    "Import Python packages "
   ]
  },
  {
   "cell_type": "code",
   "execution_count": 24,
   "metadata": {},
   "outputs": [],
   "source": [
    "import os\n",
    "import numpy as np\n",
    "import urllib.request\n",
    "import pandas as pd\n",
    "import matplotlib.pyplot as plt"
   ]
  },
  {
   "cell_type": "markdown",
   "metadata": {},
   "source": [
    "Question 3: Create List of Data Values\n",
    "\n",
    "Month\tTemperature (Celsius)\n",
    "Jan\t0.0\n",
    "Feb\t2.00\n",
    "Mar\t5.0\n",
    "Apr\t9.56\n",
    "May\t14.39\n",
    "Aug\t21.72\n",
    "Sept\t16.72\n",
    "Oct\t11.61\n",
    "Nov\t4.89\n",
    "Dec\t0.99"
   ]
  },
  {
   "cell_type": "code",
   "execution_count": 25,
   "metadata": {},
   "outputs": [
    {
     "name": "stdout",
     "output_type": "stream",
     "text": [
      "[0.0, 2.0, 5.0, 9.56, 14.39, 21.72, 16.72, 11.61, 4.89, 0.99]\n"
     ]
    }
   ],
   "source": [
    "# List includes average monthly temperatures for Boulder, CO\n",
    "monthly_temps = [0.0, 2.0, 5.0, 9.56, 14.39, 21.72, 16.72, 11.61, 4.89, 0.99]\n",
    "print(monthly_temps)"
   ]
  },
  {
   "cell_type": "markdown",
   "metadata": {},
   "source": [
    "Insert Values Into a Python List\n",
    "\n",
    "The table was missing values for June and July! Insert..\n",
    "\n",
    "Month   Temperature (Celsius)\n",
    "June    19.56\n",
    "July    22.78"
   ]
  },
  {
   "cell_type": "code",
   "execution_count": 28,
   "metadata": {},
   "outputs": [
    {
     "name": "stdout",
     "output_type": "stream",
     "text": [
      "14\n",
      "[0.0, 2.0, 5.0, 9.56, 14.39, 19.56, 22.78, 19.56, 22.78, 21.72, 16.72, 11.61, 4.89, 0.99]\n"
     ]
    }
   ],
   "source": [
    "monthly_temps.insert(5,19.56)\n",
    "monthly_temps.insert(6,22.78)\n",
    "print(len(monthly_temps))\n",
    "print(monthly_temps)"
   ]
  },
  {
   "cell_type": "markdown",
   "metadata": {},
   "source": [
    "Manually Create Numpy Arrays - use monthly temp values"
   ]
  },
  {
   "cell_type": "code",
   "execution_count": 29,
   "metadata": {},
   "outputs": [
    {
     "name": "stdout",
     "output_type": "stream",
     "text": [
      "[ 0.    2.    5.    9.56 14.39 19.56 22.78 21.72 16.72 11.61  4.89  0.99]\n"
     ]
    }
   ],
   "source": [
    "# use the following syntax to make a numpy array: arrayname = np.array([value, value, value, etc])\n",
    "avg_monthly_temps = np.array([0., 2., 5., 9.56, 14.39, 19.56, 22.78, 21.72, 16.72, 11.61, 4.89, 0.99])\n",
    "print(avg_monthly_temps)"
   ]
  },
  {
   "cell_type": "code",
   "execution_count": 31,
   "metadata": {},
   "outputs": [
    {
     "name": "stdout",
     "output_type": "stream",
     "text": [
      "[ 0.    2.    5.    9.56 14.39 19.56 22.78 19.56 22.78 21.72 16.72 11.61\n",
      "  4.89  0.99]\n"
     ]
    }
   ],
   "source": [
    "# use the following syntax to make a numpy array: arrayname = np.array(listname)\n",
    "avg_monthly_temps_list = np.array(monthly_temps)\n",
    "print(avg_monthly_temps_list)\n",
    "\n"
   ]
  },
  {
   "cell_type": "markdown",
   "metadata": {},
   "source": [
    "Quesion 6: Download Text File and Import Into Numpy Arrays\n",
    "\n",
    "Use .urllib.request to download the following file of average monthly temperature (Celsius) for Boulder, Colorado, to your data directory:"
   ]
  },
  {
   "cell_type": "code",
   "execution_count": 38,
   "metadata": {},
   "outputs": [
    {
     "data": {
      "text/plain": [
       "'C:\\\\users\\\\sill\\\\earth-analytics-bootcamp'"
      ]
     },
     "execution_count": 38,
     "metadata": {},
     "output_type": "execute_result"
    }
   ],
   "source": [
    "#first set and check working directory\n",
    "os.chdir(\"C:/users/sill/earth-analytics-bootcamp/\")\n",
    "\n",
    "# print the current working directory\n",
    "os.getcwd()\n"
   ]
  },
  {
   "cell_type": "code",
   "execution_count": 41,
   "metadata": {},
   "outputs": [
    {
     "name": "stdout",
     "output_type": "stream",
     "text": [
      "datasets downloaded successfully\n",
      "[ 0.    2.    5.    9.56 14.39 19.56 22.78 21.72 16.72 11.61  4.89  0.99]\n"
     ]
    }
   ],
   "source": [
    "\n",
    "#then download data from url\n",
    "# why .urlretrieve??\n",
    "urllib.request.urlretrieve(url = \"https://ndownloader.figshare.com/files/12732467\",\n",
    "                            filename = \"data/average-monthly-temp.txt\")\n",
    "\n",
    "print(\"datasets downloaded successfully\")\n",
    "\n",
    "avg_monthly_temp = np.loadtxt(fname = \"c:/users/sill/earth-analytics-bootcamp/data/average-monthly-temp.txt\")\n",
    "\n",
    "print(avg_monthly_temp)"
   ]
  },
  {
   "cell_type": "markdown",
   "metadata": {},
   "source": [
    "Using selections, create two new numpy arrays containing the data values for:\n",
    "\n",
    "    Mar, Apr, May\n",
    "    Sept, Oct, Nov"
   ]
  },
  {
   "cell_type": "code",
   "execution_count": 45,
   "metadata": {},
   "outputs": [
    {
     "name": "stdout",
     "output_type": "stream",
     "text": [
      "Mean of Spring average monthly temperatures is: 9.65 Celsius\n",
      "Mean of Fall average monthly temperatures is: 11.073333333333332 Celsius\n"
     ]
    }
   ],
   "source": [
    "spring_temps = np.array(avg_monthly_temp[2:5,],)\n",
    "fall_temps = np.array(avg_monthly_temp[8:11],)\n",
    "\n",
    "average_spring_temp = np.mean(spring_temps)\n",
    "average_fall_temp = np.mean(fall_temps)\n",
    "\n",
    "print(\"Mean of Spring average monthly temperatures is:\", average_spring_temp, \"Celsius\") \n",
    "print(\"Mean of Fall average monthly temperatures is:\", average_fall_temp, \"Celsius\")"
   ]
  },
  {
   "cell_type": "markdown",
   "metadata": {},
   "source": [
    "Manually create and print a pandas dataframe of average monthly temperature (Celsius) for Boulder, Colorado, with the following syntax:\n",
    "\n",
    "dataframe_name = pd.DataFrame( columns=[\"column_name_textstring\", \"column_name_numeric\"], data=[ [\"Text\", value], [\"Text\", value], [\"Text\", value], [\"Text\", value] ] )"
   ]
  },
  {
   "cell_type": "code",
   "execution_count": 56,
   "metadata": {},
   "outputs": [
    {
     "data": {
      "text/html": [
       "<div>\n",
       "<style scoped>\n",
       "    .dataframe tbody tr th:only-of-type {\n",
       "        vertical-align: middle;\n",
       "    }\n",
       "\n",
       "    .dataframe tbody tr th {\n",
       "        vertical-align: top;\n",
       "    }\n",
       "\n",
       "    .dataframe thead th {\n",
       "        text-align: right;\n",
       "    }\n",
       "</style>\n",
       "<table border=\"1\" class=\"dataframe\">\n",
       "  <thead>\n",
       "    <tr style=\"text-align: right;\">\n",
       "      <th></th>\n",
       "      <th>Month</th>\n",
       "      <th>Temp</th>\n",
       "    </tr>\n",
       "  </thead>\n",
       "  <tbody>\n",
       "    <tr>\n",
       "      <th>0</th>\n",
       "      <td>January</td>\n",
       "      <td>0.00</td>\n",
       "    </tr>\n",
       "    <tr>\n",
       "      <th>1</th>\n",
       "      <td>February</td>\n",
       "      <td>2.00</td>\n",
       "    </tr>\n",
       "    <tr>\n",
       "      <th>2</th>\n",
       "      <td>March</td>\n",
       "      <td>5.00</td>\n",
       "    </tr>\n",
       "    <tr>\n",
       "      <th>3</th>\n",
       "      <td>April</td>\n",
       "      <td>9.56</td>\n",
       "    </tr>\n",
       "    <tr>\n",
       "      <th>4</th>\n",
       "      <td>May</td>\n",
       "      <td>14.39</td>\n",
       "    </tr>\n",
       "    <tr>\n",
       "      <th>5</th>\n",
       "      <td>June</td>\n",
       "      <td>19.56</td>\n",
       "    </tr>\n",
       "    <tr>\n",
       "      <th>6</th>\n",
       "      <td>July</td>\n",
       "      <td>22.78</td>\n",
       "    </tr>\n",
       "    <tr>\n",
       "      <th>7</th>\n",
       "      <td>August</td>\n",
       "      <td>21.72</td>\n",
       "    </tr>\n",
       "    <tr>\n",
       "      <th>8</th>\n",
       "      <td>September</td>\n",
       "      <td>16.72</td>\n",
       "    </tr>\n",
       "    <tr>\n",
       "      <th>9</th>\n",
       "      <td>October</td>\n",
       "      <td>11.61</td>\n",
       "    </tr>\n",
       "    <tr>\n",
       "      <th>10</th>\n",
       "      <td>November</td>\n",
       "      <td>4.89</td>\n",
       "    </tr>\n",
       "    <tr>\n",
       "      <th>11</th>\n",
       "      <td>December</td>\n",
       "      <td>0.99</td>\n",
       "    </tr>\n",
       "  </tbody>\n",
       "</table>\n",
       "</div>"
      ],
      "text/plain": [
       "        Month   Temp\n",
       "0     January   0.00\n",
       "1    February   2.00\n",
       "2       March   5.00\n",
       "3       April   9.56\n",
       "4         May  14.39\n",
       "5        June  19.56\n",
       "6        July  22.78\n",
       "7      August  21.72\n",
       "8   September  16.72\n",
       "9     October  11.61\n",
       "10   November   4.89\n",
       "11   December   0.99"
      ]
     },
     "execution_count": 56,
     "metadata": {},
     "output_type": "execute_result"
    }
   ],
   "source": [
    "monthly_temps = pd.DataFrame( columns=[\"Month\",\"Temp\"],data=[[\"January\",0.00], [\"February\", 2.00],[\"March\", 5.00],[\"April\",9.56],[\"May\",14.39],[\"June\",19.56],[\"July\",22.78],[\"August\",21.72],[\"September\", 16.72],[\"October\", 11.61], [\"November\",4.89],[\"December\",0.99]])\n",
    "monthly_temps"
   ]
  },
  {
   "cell_type": "markdown",
   "metadata": {},
   "source": [
    "Question 9: Download CSV File and Import Into Pandas Dataframes\n",
    "\n",
    "Use .urllib.request to download the following file of average monthly temperature (Celsius) for Boulder, Colorado, to your data directory:\n",
    "\n",
    "avg-temp-months-seasons.csv from https://ndownloader.figshare.com/files/12739457\n",
    "\n",
    "Recall that you need to set your working directory (e.g. /home/jpalomino/earth-analytics-bootcamp/) before running the commands to download data.\n",
    "\n",
    "Use the appropriate function to import avg-temp-months-seasons.csv into a pandas dataframe."
   ]
  },
  {
   "cell_type": "code",
   "execution_count": 59,
   "metadata": {},
   "outputs": [
    {
     "name": "stdout",
     "output_type": "stream",
     "text": [
      "datasets downloaded successfully\n",
      "   months   temp seasons\n",
      "0     Jan   0.00  Winter\n",
      "1     Feb   2.00  Winter\n",
      "2     Mar   5.00  Spring\n",
      "3     Apr   9.56  Spring\n",
      "4     May  14.39  Spring\n",
      "5    June  19.56  Summer\n",
      "6    July  22.78  Summer\n",
      "7     Aug  21.72  Summer\n",
      "8    Sept  16.72    Fall\n",
      "9     Oct  11.61    Fall\n",
      "10    Nov   4.89    Fall\n",
      "11    Dec   0.99  Winter\n"
     ]
    }
   ],
   "source": [
    "#first set and check working directory\n",
    "os.chdir(\"C:/users/sill/earth-analytics-bootcamp/\")\n",
    "\n",
    "# print the current working directory\n",
    "os.getcwd()\n",
    "\n",
    "\n",
    "#then download data from url\n",
    "# why .urlretrieve??\n",
    "urllib.request.urlretrieve(url = \"https://ndownloader.figshare.com/files/12739457\",\n",
    "                            filename = \"data/avg-temp-months-seasons.csv\")\n",
    "\n",
    "print(\"datasets downloaded successfully\")\n",
    "\n",
    "avg_temp_months_seasons = pd.read_csv(\"c:/users/sill/earth-analytics-bootcamp/data/avg-temp-months-seasons.csv\")\n",
    "\n",
    "print(avg_temp_months_seasons)"
   ]
  },
  {
   "cell_type": "code",
   "execution_count": 75,
   "metadata": {},
   "outputs": [
    {
     "name": "stdout",
     "output_type": "stream",
     "text": [
      "           temp\n",
      "count  3.000000\n",
      "mean   0.996667\n",
      "std    1.000017\n",
      "min    0.000000\n",
      "25%    0.495000\n",
      "50%    0.990000\n",
      "75%    1.495000\n",
      "max    2.000000\n",
      "            temp\n",
      "count   3.000000\n",
      "mean    9.650000\n",
      "std     4.695647\n",
      "min     5.000000\n",
      "25%     7.280000\n",
      "50%     9.560000\n",
      "75%    11.975000\n",
      "max    14.390000\n",
      "            temp\n",
      "count   3.000000\n",
      "mean   21.353333\n",
      "std     1.641016\n",
      "min    19.560000\n",
      "25%    20.640000\n",
      "50%    21.720000\n",
      "75%    22.250000\n",
      "max    22.780000\n",
      "            temp\n",
      "count   3.000000\n",
      "mean   11.073333\n",
      "std     5.933231\n",
      "min     4.890000\n",
      "25%     8.250000\n",
      "50%    11.610000\n",
      "75%    14.165000\n",
      "max    16.720000\n"
     ]
    }
   ],
   "source": [
    "winter_temps = avg_temp_months_seasons[avg_temp_months_seasons.seasons == \"Winter\"]\n",
    "spring_temps = avg_temp_months_seasons[avg_temp_months_seasons.seasons == \"Spring\"]\n",
    "fall_temps = avg_temp_months_seasons[avg_temp_months_seasons.seasons == \"Fall\"]\n",
    "summer_temps = avg_temp_months_seasons[avg_temp_months_seasons.seasons == \"Summer\"]\n",
    "\n",
    "print(winter_temps.describe())\n",
    "print(spring_temps.describe())\n",
    "print(summer_temps.describe())\n",
    "print(fall_temps.describe())"
   ]
  },
  {
   "cell_type": "markdown",
   "metadata": {},
   "source": [
    "Question 11: Plot Data From Pandas Dataframes\n",
    "\n",
    "Manually create a new pandas dataframe containing the calculated mean value for each season and the name of the season.\n",
    "\n",
    "Plot this new pandas dataframe using the plot type and colors of your choosing."
   ]
  },
  {
   "cell_type": "code",
   "execution_count": 85,
   "metadata": {},
   "outputs": [
    {
     "name": "stdout",
     "output_type": "stream",
     "text": [
      "   season  temperature\n",
      "0  Winter     0.996667\n",
      "1  Spring     9.650000\n",
      "2  Summer    21.353333\n",
      "3    Fall    11.073333\n"
     ]
    }
   ],
   "source": [
    "avg_temp_season_name = pd.DataFrame(columns = [\"season\",\"temperature\"],data=[[\"Winter\",0.996667],[\"Spring\",9.650000],[\"Summer\", 21.353333],[\"Fall\", 11.073333]])\n",
    "print(avg_temp_season_name)"
   ]
  },
  {
   "cell_type": "code",
   "execution_count": 89,
   "metadata": {},
   "outputs": [
    {
     "data": {
      "image/png": "[encoded data removed]",
      "text/plain": [
       "<Figure size 576x576 with 1 Axes>"
      ]
     },
     "metadata": {},
     "output_type": "display_data"
    }
   ],
   "source": [
    "# set plot size for all plots that follow\n",
    "plt.rcParams[\"figure.figsize\"] = (8, 8)\n",
    "\n",
    "# create the plot space upon which to plot the data\n",
    "fig, ax = plt.subplots()\n",
    "\n",
    "# add the x-axis and the y-axis to the plot\n",
    "ax.bar(avg_temp_season_name.season, avg_temp_season_name.temperature, color=\"green\")\n",
    "\n",
    "# set plot title\n",
    "ax.set(title=\"Average Temperature by Season 2017 in Boulder, CO\")\n",
    "\n",
    "# add labels to the axes\n",
    "ax.set(xlabel=\"Season\", ylabel=\"Temperature (Celsius)\");\n"
   ]
  },
  {
   "cell_type": "code",
   "execution_count": null,
   "metadata": {},
   "outputs": [],
   "source": []
  }
 ],
 "metadata": {
  "kernelspec": {
   "display_name": "Python 3",
   "language": "python",
   "name": "python3"
  },
  "language_info": {
   "codemirror_mode": {
    "name": "ipython",
    "version": 3
   },
   "file_extension": ".py",
   "mimetype": "text/x-python",
   "name": "python",
   "nbconvert_exporter": "python",
   "pygments_lexer": "ipython3",
   "version": "3.6.5"
  }
 },
 "nbformat": 4,
 "nbformat_minor": 2
}
