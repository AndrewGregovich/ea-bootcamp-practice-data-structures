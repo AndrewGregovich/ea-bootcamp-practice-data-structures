{
 "cells": [
  {
   "cell_type": "markdown",
   "metadata": {},
   "source": [
    "### Earth Analytics Bootcamp - Practice Activity on Data Structures\n",
    "<b>Author</b>: Mike Dorfman"
   ]
  },
  {
   "cell_type": "code",
   "execution_count": 47,
   "metadata": {},
   "outputs": [
    {
     "name": "stdout",
     "output_type": "stream",
     "text": [
      "Packages imported.\n"
     ]
    }
   ],
   "source": [
    "# Import necessary packages\n",
    "import numpy as np\n",
    "import pandas as pd\n",
    "import urllib\n",
    "import os\n",
    "import matplotlib.pyplot as plt\n",
    "\n",
    "print(\"Packages imported.\")"
   ]
  },
  {
   "cell_type": "code",
   "execution_count": 48,
   "metadata": {},
   "outputs": [],
   "source": [
    "# Make the average monthly temperature list for Boulder, CO\n",
    "temp_monthly_avg_list = [0.0,\n",
    "                    2.00,\n",
    "                    5.0,\n",
    "                    9.56,\n",
    "                    14.39,\n",
    "                    21.72,\n",
    "                    16.72,\n",
    "                    11.61,\n",
    "                    4.89,\n",
    "                    0.99]"
   ]
  },
  {
   "cell_type": "code",
   "execution_count": 49,
   "metadata": {},
   "outputs": [
    {
     "name": "stdout",
     "output_type": "stream",
     "text": [
      "[0.0, 2.0, 5.0, 9.56, 14.39, 19.56, 22.78, 21.72, 16.72, 11.61, 4.89, 0.99]\n"
     ]
    }
   ],
   "source": [
    "# Insert June and July temperatures into this list\n",
    "temp_monthly_avg_list.insert(5, 19.56)\n",
    "temp_monthly_avg_list.insert(6, 22.78)\n",
    "print(temp_monthly_avg_list)"
   ]
  },
  {
   "cell_type": "code",
   "execution_count": 50,
   "metadata": {},
   "outputs": [],
   "source": [
    "# From the same data, explicitly create a numpy vector\n",
    "temp_monthly_avg_array_1 = np.array([0.0,\n",
    "                                     2.00,\n",
    "                                     5.0,\n",
    "                                     9.56,\n",
    "                                     14.39,\n",
    "                                     21.72,\n",
    "                                     16.72,\n",
    "                                     11.61,\n",
    "                                     4.89,\n",
    "                                     0.99])\n",
    "\n",
    "# From the same data, pass the list to np.array() to create a numpy vector\n",
    "temp_monthly_avg_array_2 = np.array(temp_monthly_avg_list)"
   ]
  },
  {
   "cell_type": "code",
   "execution_count": 51,
   "metadata": {},
   "outputs": [
    {
     "name": "stdout",
     "output_type": "stream",
     "text": [
      "Datasets downloaded successfully\n"
     ]
    }
   ],
   "source": [
    "# Set the working directory as our data directory (in parent directory)\n",
    "os.chdir(\"../data\")\n",
    "\n",
    "file_path_target = \"avg-monthly-temp.txt\"\n",
    "\n",
    "# Download average monthly temperature for Boulder, CO\n",
    "urllib.request.urlretrieve(url = \"https://ndownloader.figshare.com/files/12732467\", \n",
    "                           filename = file_path_target)\n",
    "print(\"Datasets downloaded successfully\")\n",
    "\n",
    "# Load into numpy array\n",
    "avg_monthly_temp_c_array = np.loadtxt(fname = file_path_target, delimiter = \",\")"
   ]
  },
  {
   "cell_type": "code",
   "execution_count": 52,
   "metadata": {},
   "outputs": [
    {
     "name": "stdout",
     "output_type": "stream",
     "text": [
      "Mean of Spring Average Monthly Temperatures: 9.65\n",
      "Mean of Fall Average Monthly Temperatures: 11.073333333333332\n"
     ]
    }
   ],
   "source": [
    "# Make subset of March, April, May\n",
    "avg_monthly_temp_c_march_to_may_array = avg_monthly_temp_c_array[2:5]\n",
    "\n",
    "# Find the mean of this array and print\n",
    "avg_monthly_temp_c_march_to_may_mean = np.mean(avg_monthly_temp_c_march_to_may_array)\n",
    "print(\"Mean of Spring Average Monthly Temperatures: %s\" % avg_monthly_temp_c_march_to_may_mean)\n",
    "\n",
    "# Make subset of Sept, Oct, Nov\n",
    "avg_monthly_temp_c_sept_to_nov_array = avg_monthly_temp_c_array[8:11]\n",
    "\n",
    "# Find the mean of this array and print\n",
    "avg_monthly_temp_c_sept_to_nov_mean = np.mean(avg_monthly_temp_c_sept_to_nov_array)\n",
    "print(\"Mean of Fall Average Monthly Temperatures: %s\" % avg_monthly_temp_c_sept_to_nov_mean)"
   ]
  },
  {
   "cell_type": "code",
   "execution_count": 53,
   "metadata": {},
   "outputs": [
    {
     "data": {
      "text/html": [
       "<div>\n",
       "<style scoped>\n",
       "    .dataframe tbody tr th:only-of-type {\n",
       "        vertical-align: middle;\n",
       "    }\n",
       "\n",
       "    .dataframe tbody tr th {\n",
       "        vertical-align: top;\n",
       "    }\n",
       "\n",
       "    .dataframe thead th {\n",
       "        text-align: right;\n",
       "    }\n",
       "</style>\n",
       "<table border=\"1\" class=\"dataframe\">\n",
       "  <thead>\n",
       "    <tr style=\"text-align: right;\">\n",
       "      <th></th>\n",
       "      <th>Month</th>\n",
       "      <th>Temp</th>\n",
       "    </tr>\n",
       "  </thead>\n",
       "  <tbody>\n",
       "    <tr>\n",
       "      <th>0</th>\n",
       "      <td>January</td>\n",
       "      <td>0.00</td>\n",
       "    </tr>\n",
       "    <tr>\n",
       "      <th>1</th>\n",
       "      <td>February</td>\n",
       "      <td>2.00</td>\n",
       "    </tr>\n",
       "    <tr>\n",
       "      <th>2</th>\n",
       "      <td>March</td>\n",
       "      <td>5.00</td>\n",
       "    </tr>\n",
       "    <tr>\n",
       "      <th>3</th>\n",
       "      <td>April</td>\n",
       "      <td>9.56</td>\n",
       "    </tr>\n",
       "    <tr>\n",
       "      <th>4</th>\n",
       "      <td>May</td>\n",
       "      <td>14.39</td>\n",
       "    </tr>\n",
       "    <tr>\n",
       "      <th>5</th>\n",
       "      <td>June</td>\n",
       "      <td>19.56</td>\n",
       "    </tr>\n",
       "    <tr>\n",
       "      <th>6</th>\n",
       "      <td>July</td>\n",
       "      <td>22.78</td>\n",
       "    </tr>\n",
       "    <tr>\n",
       "      <th>7</th>\n",
       "      <td>August</td>\n",
       "      <td>21.72</td>\n",
       "    </tr>\n",
       "    <tr>\n",
       "      <th>8</th>\n",
       "      <td>September</td>\n",
       "      <td>16.72</td>\n",
       "    </tr>\n",
       "    <tr>\n",
       "      <th>9</th>\n",
       "      <td>October</td>\n",
       "      <td>11.61</td>\n",
       "    </tr>\n",
       "    <tr>\n",
       "      <th>10</th>\n",
       "      <td>November</td>\n",
       "      <td>4.89</td>\n",
       "    </tr>\n",
       "    <tr>\n",
       "      <th>11</th>\n",
       "      <td>December</td>\n",
       "      <td>0.99</td>\n",
       "    </tr>\n",
       "  </tbody>\n",
       "</table>\n",
       "</div>"
      ],
      "text/plain": [
       "        Month   Temp\n",
       "0     January   0.00\n",
       "1    February   2.00\n",
       "2       March   5.00\n",
       "3       April   9.56\n",
       "4         May  14.39\n",
       "5        June  19.56\n",
       "6        July  22.78\n",
       "7      August  21.72\n",
       "8   September  16.72\n",
       "9     October  11.61\n",
       "10   November   4.89\n",
       "11   December   0.99"
      ]
     },
     "execution_count": 53,
     "metadata": {},
     "output_type": "execute_result"
    }
   ],
   "source": [
    "# From the same data, explicitly create a pandas dataframe\n",
    "avg_monthly_temp_c_df = pd.DataFrame(columns=[\"Month\", \"Temp\"], \n",
    "                              data=[[\"January\", 0.00],\n",
    "                                    [\"February\", 2.00],\n",
    "                                    [\"March\", 5.00],\n",
    "                                    [\"April\", 9.56],\n",
    "                                    [\"May\", 14.39],\n",
    "                                    [\"June\", 19.56],\n",
    "                                    [\"July\", 22.78],\n",
    "                                    [\"August\", 21.72],\n",
    "                                    [\"September\", 16.72],\n",
    "                                    [\"October\", 11.61],\n",
    "                                    [\"November\", 4.89], \n",
    "                                    [\"December\", 0.99]] )\n",
    "avg_monthly_temp_c_df"
   ]
  },
  {
   "cell_type": "code",
   "execution_count": 54,
   "metadata": {},
   "outputs": [
    {
     "name": "stdout",
     "output_type": "stream",
     "text": [
      "Datasets downloaded successfully\n"
     ]
    },
    {
     "data": {
      "text/html": [
       "<div>\n",
       "<style scoped>\n",
       "    .dataframe tbody tr th:only-of-type {\n",
       "        vertical-align: middle;\n",
       "    }\n",
       "\n",
       "    .dataframe tbody tr th {\n",
       "        vertical-align: top;\n",
       "    }\n",
       "\n",
       "    .dataframe thead th {\n",
       "        text-align: right;\n",
       "    }\n",
       "</style>\n",
       "<table border=\"1\" class=\"dataframe\">\n",
       "  <thead>\n",
       "    <tr style=\"text-align: right;\">\n",
       "      <th></th>\n",
       "      <th>months</th>\n",
       "      <th>temp</th>\n",
       "      <th>seasons</th>\n",
       "    </tr>\n",
       "  </thead>\n",
       "  <tbody>\n",
       "    <tr>\n",
       "      <th>0</th>\n",
       "      <td>Jan</td>\n",
       "      <td>0.00</td>\n",
       "      <td>Winter</td>\n",
       "    </tr>\n",
       "    <tr>\n",
       "      <th>1</th>\n",
       "      <td>Feb</td>\n",
       "      <td>2.00</td>\n",
       "      <td>Winter</td>\n",
       "    </tr>\n",
       "    <tr>\n",
       "      <th>2</th>\n",
       "      <td>Mar</td>\n",
       "      <td>5.00</td>\n",
       "      <td>Spring</td>\n",
       "    </tr>\n",
       "    <tr>\n",
       "      <th>3</th>\n",
       "      <td>Apr</td>\n",
       "      <td>9.56</td>\n",
       "      <td>Spring</td>\n",
       "    </tr>\n",
       "    <tr>\n",
       "      <th>4</th>\n",
       "      <td>May</td>\n",
       "      <td>14.39</td>\n",
       "      <td>Spring</td>\n",
       "    </tr>\n",
       "    <tr>\n",
       "      <th>5</th>\n",
       "      <td>June</td>\n",
       "      <td>19.56</td>\n",
       "      <td>Summer</td>\n",
       "    </tr>\n",
       "    <tr>\n",
       "      <th>6</th>\n",
       "      <td>July</td>\n",
       "      <td>22.78</td>\n",
       "      <td>Summer</td>\n",
       "    </tr>\n",
       "    <tr>\n",
       "      <th>7</th>\n",
       "      <td>Aug</td>\n",
       "      <td>21.72</td>\n",
       "      <td>Summer</td>\n",
       "    </tr>\n",
       "    <tr>\n",
       "      <th>8</th>\n",
       "      <td>Sept</td>\n",
       "      <td>16.72</td>\n",
       "      <td>Fall</td>\n",
       "    </tr>\n",
       "    <tr>\n",
       "      <th>9</th>\n",
       "      <td>Oct</td>\n",
       "      <td>11.61</td>\n",
       "      <td>Fall</td>\n",
       "    </tr>\n",
       "    <tr>\n",
       "      <th>10</th>\n",
       "      <td>Nov</td>\n",
       "      <td>4.89</td>\n",
       "      <td>Fall</td>\n",
       "    </tr>\n",
       "    <tr>\n",
       "      <th>11</th>\n",
       "      <td>Dec</td>\n",
       "      <td>0.99</td>\n",
       "      <td>Winter</td>\n",
       "    </tr>\n",
       "  </tbody>\n",
       "</table>\n",
       "</div>"
      ],
      "text/plain": [
       "   months   temp seasons\n",
       "0     Jan   0.00  Winter\n",
       "1     Feb   2.00  Winter\n",
       "2     Mar   5.00  Spring\n",
       "3     Apr   9.56  Spring\n",
       "4     May  14.39  Spring\n",
       "5    June  19.56  Summer\n",
       "6    July  22.78  Summer\n",
       "7     Aug  21.72  Summer\n",
       "8    Sept  16.72    Fall\n",
       "9     Oct  11.61    Fall\n",
       "10    Nov   4.89    Fall\n",
       "11    Dec   0.99  Winter"
      ]
     },
     "execution_count": 54,
     "metadata": {},
     "output_type": "execute_result"
    }
   ],
   "source": [
    "# Working directory already set as our data directory (in parent directory)\n",
    "file_path_target = \"avg-temp-months-seasons.csv\"\n",
    "\n",
    "# Download average monthly temperature for Boulder, CO\n",
    "urllib.request.urlretrieve(url = \"https://ndownloader.figshare.com/files/12739457\", \n",
    "                           filename = file_path_target)\n",
    "print(\"Datasets downloaded successfully\")\n",
    "\n",
    "# Load into pandas dataframe\n",
    "# This will overwrite the previous variable (explicitly-created dataframe), but we will not be using that variable any more\n",
    "avg_monthly_temp_c_df = pd.read_csv(file_path_target)\n",
    "avg_monthly_temp_c_df"
   ]
  },
  {
   "cell_type": "code",
   "execution_count": 55,
   "metadata": {},
   "outputs": [
    {
     "name": "stdout",
     "output_type": "stream",
     "text": [
      "           temp\n",
      "count  3.000000\n",
      "mean   0.996667\n",
      "std    1.000017\n",
      "min    0.000000\n",
      "25%    0.495000\n",
      "50%    0.990000\n",
      "75%    1.495000\n",
      "max    2.000000\n",
      "            temp\n",
      "count   3.000000\n",
      "mean    9.650000\n",
      "std     4.695647\n",
      "min     5.000000\n",
      "25%     7.280000\n",
      "50%     9.560000\n",
      "75%    11.975000\n",
      "max    14.390000\n",
      "            temp\n",
      "count   3.000000\n",
      "mean   21.353333\n",
      "std     1.641016\n",
      "min    19.560000\n",
      "25%    20.640000\n",
      "50%    21.720000\n",
      "75%    22.250000\n",
      "max    22.780000\n",
      "            temp\n",
      "count   3.000000\n",
      "mean   11.073333\n",
      "std     5.933231\n",
      "min     4.890000\n",
      "25%     8.250000\n",
      "50%    11.610000\n",
      "75%    14.165000\n",
      "max    16.720000\n"
     ]
    }
   ],
   "source": [
    "# Select seasons and summarize the data in each season\n",
    "# Without using \"print()\" explicitly, I can't get the description to show up for each month - just the last one\n",
    "\n",
    "avg_monthly_temp_c_winter_df = avg_monthly_temp_c_df.loc[avg_monthly_temp_c_df['seasons'] == \"Winter\"]\n",
    "print(avg_monthly_temp_c_winter_df.describe())\n",
    "\n",
    "avg_monthly_temp_c_spring_df = avg_monthly_temp_c_df.loc[avg_monthly_temp_c_df['seasons'] == \"Spring\"]\n",
    "print(avg_monthly_temp_c_spring_df.describe())\n",
    "\n",
    "avg_monthly_temp_c_summer_df = avg_monthly_temp_c_df.loc[avg_monthly_temp_c_df['seasons'] == \"Summer\"]\n",
    "print(avg_monthly_temp_c_summer_df.describe())\n",
    "\n",
    "avg_monthly_temp_c_fall_df = avg_monthly_temp_c_df.loc[avg_monthly_temp_c_df['seasons'] == \"Fall\"]\n",
    "print(avg_monthly_temp_c_fall_df.describe())"
   ]
  },
  {
   "cell_type": "code",
   "execution_count": 56,
   "metadata": {},
   "outputs": [
    {
     "data": {
      "image/png": "[encoded data removed]",
      "text/plain": [
       "<Figure size 576x576 with 1 Axes>"
      ]
     },
     "metadata": {},
     "output_type": "display_data"
    }
   ],
   "source": [
    "# Create a pandas dataframe with the mean value for each season above\n",
    "avg_seasonal_temp_c_df = pd.DataFrame(columns=[\"Season\", \"Temp\"], \n",
    "                              data=[[\"Winter\", 0.997],\n",
    "                                    [\"Spring\", 9.65],\n",
    "                                    [\"Summer\", 21.353],\n",
    "                                    [\"Fall\", 11.073]] )\n",
    "\n",
    "# set plot size for all plots that follow\n",
    "plt.rcParams[\"figure.figsize\"] = (8, 8)\n",
    "\n",
    "# create the plot space upon which to plot the data\n",
    "fig, ax = plt.subplots()\n",
    "\n",
    "# add the x-axis and the y-axis to the plot\n",
    "ax.bar(avg_seasonal_temp_c_df.Season, avg_seasonal_temp_c_df.Temp, color=\"blue\")\n",
    "\n",
    "# set plot title\n",
    "ax.set(title=\"Average Seasonal Temperature for Boulder, CO\")\n",
    "\n",
    "# add labels to the axes\n",
    "ax.set(xlabel=\"Season\", ylabel=\"Temperature (Deg C)\");"
   ]
  }
 ],
 "metadata": {
  "kernelspec": {
   "display_name": "Python 3",
   "language": "python",
   "name": "python3"
  },
  "language_info": {
   "codemirror_mode": {
    "name": "ipython",
    "version": 3
   },
   "file_extension": ".py",
   "mimetype": "text/x-python",
   "name": "python",
   "nbconvert_exporter": "python",
   "pygments_lexer": "ipython3",
   "version": "3.6.5"
  }
 },
 "nbformat": 4,
 "nbformat_minor": 2
}
